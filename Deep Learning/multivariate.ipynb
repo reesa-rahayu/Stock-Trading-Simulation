{
 "cells": [
  {
   "cell_type": "code",
   "execution_count": null,
   "id": "initial_id",
   "metadata": {
    "ExecuteTime": {
     "end_time": "2025-03-01T17:07:30.697809Z",
     "start_time": "2025-03-01T17:07:02.863326Z"
    },
    "collapsed": true
   },
   "outputs": [],
   "source": [
    "import tensorflow as tf\n",
    "import numpy as np\n",
    "import matplotlib.pyplot as plt\n",
    "import seaborn as sns\n",
    "import pandas as pd\n",
    "from datetime import datetime\n",
    "from datetime import timedelta\n",
    "from tqdm import tqdm"
   ]
  },
  {
   "cell_type": "markdown",
   "id": "10d087b2",
   "metadata": {},
   "source": [
    "# Load Data"
   ]
  },
  {
   "cell_type": "code",
   "execution_count": 75,
   "id": "59981caa5b06a9a7",
   "metadata": {
    "ExecuteTime": {
     "end_time": "2025-03-01T17:12:30.730566Z",
     "start_time": "2025-03-01T17:12:30.708325Z"
    }
   },
   "outputs": [
    {
     "name": "stdout",
     "output_type": "stream",
     "text": [
      "(3272, 6)\n"
     ]
    },
    {
     "data": {
      "text/html": [
       "<div>\n",
       "<style scoped>\n",
       "    .dataframe tbody tr th:only-of-type {\n",
       "        vertical-align: middle;\n",
       "    }\n",
       "\n",
       "    .dataframe tbody tr th {\n",
       "        vertical-align: top;\n",
       "    }\n",
       "\n",
       "    .dataframe thead th {\n",
       "        text-align: right;\n",
       "    }\n",
       "</style>\n",
       "<table border=\"1\" class=\"dataframe\">\n",
       "  <thead>\n",
       "    <tr style=\"text-align: right;\">\n",
       "      <th></th>\n",
       "      <th>Open</th>\n",
       "      <th>High</th>\n",
       "      <th>Low</th>\n",
       "      <th>Close</th>\n",
       "      <th>Adj Close</th>\n",
       "      <th>Volume</th>\n",
       "    </tr>\n",
       "    <tr>\n",
       "      <th>Date</th>\n",
       "      <th></th>\n",
       "      <th></th>\n",
       "      <th></th>\n",
       "      <th></th>\n",
       "      <th></th>\n",
       "      <th></th>\n",
       "    </tr>\n",
       "  </thead>\n",
       "  <tbody>\n",
       "    <tr>\n",
       "      <th>2010-01-04</th>\n",
       "      <td>15.689439</td>\n",
       "      <td>15.753504</td>\n",
       "      <td>15.621622</td>\n",
       "      <td>15.684434</td>\n",
       "      <td>15.684434</td>\n",
       "      <td>78169752</td>\n",
       "    </tr>\n",
       "    <tr>\n",
       "      <th>2010-01-05</th>\n",
       "      <td>15.695195</td>\n",
       "      <td>15.711712</td>\n",
       "      <td>15.554054</td>\n",
       "      <td>15.615365</td>\n",
       "      <td>15.615365</td>\n",
       "      <td>120067812</td>\n",
       "    </tr>\n",
       "    <tr>\n",
       "      <th>2010-01-06</th>\n",
       "      <td>15.662162</td>\n",
       "      <td>15.662162</td>\n",
       "      <td>15.174174</td>\n",
       "      <td>15.221722</td>\n",
       "      <td>15.221722</td>\n",
       "      <td>158988852</td>\n",
       "    </tr>\n",
       "    <tr>\n",
       "      <th>2010-01-07</th>\n",
       "      <td>15.250250</td>\n",
       "      <td>15.265265</td>\n",
       "      <td>14.831081</td>\n",
       "      <td>14.867367</td>\n",
       "      <td>14.867367</td>\n",
       "      <td>256315428</td>\n",
       "    </tr>\n",
       "    <tr>\n",
       "      <th>2010-01-08</th>\n",
       "      <td>14.814815</td>\n",
       "      <td>15.096346</td>\n",
       "      <td>14.742492</td>\n",
       "      <td>15.065566</td>\n",
       "      <td>15.065566</td>\n",
       "      <td>188783028</td>\n",
       "    </tr>\n",
       "  </tbody>\n",
       "</table>\n",
       "</div>"
      ],
      "text/plain": [
       "                 Open       High        Low      Close  Adj Close     Volume\n",
       "Date                                                                        \n",
       "2010-01-04  15.689439  15.753504  15.621622  15.684434  15.684434   78169752\n",
       "2010-01-05  15.695195  15.711712  15.554054  15.615365  15.615365  120067812\n",
       "2010-01-06  15.662162  15.662162  15.174174  15.221722  15.221722  158988852\n",
       "2010-01-07  15.250250  15.265265  14.831081  14.867367  14.867367  256315428\n",
       "2010-01-08  14.814815  15.096346  14.742492  15.065566  15.065566  188783028"
      ]
     },
     "execution_count": 75,
     "metadata": {},
     "output_type": "execute_result"
    }
   ],
   "source": [
    "train_data = pd.read_csv('dataset/Google_Stock_Train.csv', parse_dates=True, index_col='Date', header=0)\n",
    "print(train_data.shape)\n",
    "train_data.head()"
   ]
  },
  {
   "cell_type": "code",
   "execution_count": 76,
   "id": "8d7f3953a78ee693",
   "metadata": {
    "ExecuteTime": {
     "end_time": "2025-03-01T17:12:33.892273Z",
     "start_time": "2025-03-01T17:12:33.849843Z"
    }
   },
   "outputs": [
    {
     "name": "stdout",
     "output_type": "stream",
     "text": [
      "(143, 6)\n"
     ]
    },
    {
     "data": {
      "text/html": [
       "<div>\n",
       "<style scoped>\n",
       "    .dataframe tbody tr th:only-of-type {\n",
       "        vertical-align: middle;\n",
       "    }\n",
       "\n",
       "    .dataframe tbody tr th {\n",
       "        vertical-align: top;\n",
       "    }\n",
       "\n",
       "    .dataframe thead th {\n",
       "        text-align: right;\n",
       "    }\n",
       "</style>\n",
       "<table border=\"1\" class=\"dataframe\">\n",
       "  <thead>\n",
       "    <tr style=\"text-align: right;\">\n",
       "      <th></th>\n",
       "      <th>Open</th>\n",
       "      <th>High</th>\n",
       "      <th>Low</th>\n",
       "      <th>Close</th>\n",
       "      <th>Adj Close</th>\n",
       "      <th>Volume</th>\n",
       "    </tr>\n",
       "    <tr>\n",
       "      <th>Date</th>\n",
       "      <th></th>\n",
       "      <th></th>\n",
       "      <th></th>\n",
       "      <th></th>\n",
       "      <th></th>\n",
       "      <th></th>\n",
       "    </tr>\n",
       "  </thead>\n",
       "  <tbody>\n",
       "    <tr>\n",
       "      <th>2023-01-03</th>\n",
       "      <td>89.589996</td>\n",
       "      <td>91.050003</td>\n",
       "      <td>88.519997</td>\n",
       "      <td>89.120003</td>\n",
       "      <td>89.120003</td>\n",
       "      <td>28131200</td>\n",
       "    </tr>\n",
       "    <tr>\n",
       "      <th>2023-01-04</th>\n",
       "      <td>90.349998</td>\n",
       "      <td>90.650002</td>\n",
       "      <td>87.269997</td>\n",
       "      <td>88.080002</td>\n",
       "      <td>88.080002</td>\n",
       "      <td>34854800</td>\n",
       "    </tr>\n",
       "    <tr>\n",
       "      <th>2023-01-05</th>\n",
       "      <td>87.470001</td>\n",
       "      <td>87.570000</td>\n",
       "      <td>85.900002</td>\n",
       "      <td>86.199997</td>\n",
       "      <td>86.199997</td>\n",
       "      <td>27194400</td>\n",
       "    </tr>\n",
       "    <tr>\n",
       "      <th>2023-01-06</th>\n",
       "      <td>86.790001</td>\n",
       "      <td>87.690002</td>\n",
       "      <td>84.860001</td>\n",
       "      <td>87.339996</td>\n",
       "      <td>87.339996</td>\n",
       "      <td>41381500</td>\n",
       "    </tr>\n",
       "    <tr>\n",
       "      <th>2023-01-09</th>\n",
       "      <td>88.360001</td>\n",
       "      <td>90.050003</td>\n",
       "      <td>87.860001</td>\n",
       "      <td>88.019997</td>\n",
       "      <td>88.019997</td>\n",
       "      <td>29003900</td>\n",
       "    </tr>\n",
       "  </tbody>\n",
       "</table>\n",
       "</div>"
      ],
      "text/plain": [
       "                 Open       High        Low      Close  Adj Close    Volume\n",
       "Date                                                                       \n",
       "2023-01-03  89.589996  91.050003  88.519997  89.120003  89.120003  28131200\n",
       "2023-01-04  90.349998  90.650002  87.269997  88.080002  88.080002  34854800\n",
       "2023-01-05  87.470001  87.570000  85.900002  86.199997  86.199997  27194400\n",
       "2023-01-06  86.790001  87.690002  84.860001  87.339996  87.339996  41381500\n",
       "2023-01-09  88.360001  90.050003  87.860001  88.019997  88.019997  29003900"
      ]
     },
     "execution_count": 76,
     "metadata": {},
     "output_type": "execute_result"
    }
   ],
   "source": [
    "test_data = pd.read_csv('dataset/Google_Stock_Test.csv', parse_dates=True, index_col='Date', header=0)\n",
    "print(test_data.shape)\n",
    "test_data.head()"
   ]
  },
  {
   "cell_type": "code",
   "execution_count": 77,
   "id": "492f7356",
   "metadata": {},
   "outputs": [
    {
     "name": "stdout",
     "output_type": "stream",
     "text": [
      "<class 'pandas.core.frame.DataFrame'>\n",
      "RangeIndex: 3415 entries, 0 to 3414\n",
      "Data columns (total 6 columns):\n",
      " #   Column     Non-Null Count  Dtype  \n",
      "---  ------     --------------  -----  \n",
      " 0   Open       3415 non-null   float64\n",
      " 1   High       3415 non-null   float64\n",
      " 2   Low        3415 non-null   float64\n",
      " 3   Close      3415 non-null   float64\n",
      " 4   Adj Close  3415 non-null   float64\n",
      " 5   Volume     3415 non-null   int64  \n",
      "dtypes: float64(5), int64(1)\n",
      "memory usage: 160.2 KB\n"
     ]
    }
   ],
   "source": [
    "full_data = pd.concat((train_data, test_data), ignore_index=True)\n",
    "full_data.info()"
   ]
  },
  {
   "cell_type": "markdown",
   "id": "570cb1a5",
   "metadata": {},
   "source": [
    "## Normalizing Data"
   ]
  },
  {
   "cell_type": "code",
   "execution_count": 6,
   "id": "4886d174ad6fb21b",
   "metadata": {
    "ExecuteTime": {
     "end_time": "2025-03-01T17:12:37.375599Z",
     "start_time": "2025-03-01T17:12:37.263949Z"
    }
   },
   "outputs": [
    {
     "data": {
      "text/html": [
       "<div>\n",
       "<style scoped>\n",
       "    .dataframe tbody tr th:only-of-type {\n",
       "        vertical-align: middle;\n",
       "    }\n",
       "\n",
       "    .dataframe tbody tr th {\n",
       "        vertical-align: top;\n",
       "    }\n",
       "\n",
       "    .dataframe thead th {\n",
       "        text-align: right;\n",
       "    }\n",
       "</style>\n",
       "<table border=\"1\" class=\"dataframe\">\n",
       "  <thead>\n",
       "    <tr style=\"text-align: right;\">\n",
       "      <th></th>\n",
       "      <th>Open</th>\n",
       "      <th>High</th>\n",
       "      <th>Low</th>\n",
       "      <th>Close</th>\n",
       "      <th>Adj Close</th>\n",
       "      <th>Volume</th>\n",
       "    </tr>\n",
       "  </thead>\n",
       "  <tbody>\n",
       "    <tr>\n",
       "      <th>0</th>\n",
       "      <td>0.031211</td>\n",
       "      <td>0.030917</td>\n",
       "      <td>0.032035</td>\n",
       "      <td>0.031846</td>\n",
       "      <td>0.031846</td>\n",
       "      <td>0.116235</td>\n",
       "    </tr>\n",
       "    <tr>\n",
       "      <th>1</th>\n",
       "      <td>0.031249</td>\n",
       "      <td>0.030642</td>\n",
       "      <td>0.031581</td>\n",
       "      <td>0.031385</td>\n",
       "      <td>0.031385</td>\n",
       "      <td>0.186962</td>\n",
       "    </tr>\n",
       "    <tr>\n",
       "      <th>2</th>\n",
       "      <td>0.031031</td>\n",
       "      <td>0.030315</td>\n",
       "      <td>0.029030</td>\n",
       "      <td>0.028758</td>\n",
       "      <td>0.028758</td>\n",
       "      <td>0.252662</td>\n",
       "    </tr>\n",
       "    <tr>\n",
       "      <th>3</th>\n",
       "      <td>0.028308</td>\n",
       "      <td>0.027696</td>\n",
       "      <td>0.026726</td>\n",
       "      <td>0.026393</td>\n",
       "      <td>0.026393</td>\n",
       "      <td>0.416954</td>\n",
       "    </tr>\n",
       "    <tr>\n",
       "      <th>4</th>\n",
       "      <td>0.025429</td>\n",
       "      <td>0.026581</td>\n",
       "      <td>0.026131</td>\n",
       "      <td>0.027716</td>\n",
       "      <td>0.027716</td>\n",
       "      <td>0.302956</td>\n",
       "    </tr>\n",
       "  </tbody>\n",
       "</table>\n",
       "</div>"
      ],
      "text/plain": [
       "       Open      High       Low     Close  Adj Close    Volume\n",
       "0  0.031211  0.030917  0.032035  0.031846   0.031846  0.116235\n",
       "1  0.031249  0.030642  0.031581  0.031385   0.031385  0.186962\n",
       "2  0.031031  0.030315  0.029030  0.028758   0.028758  0.252662\n",
       "3  0.028308  0.027696  0.026726  0.026393   0.026393  0.416954\n",
       "4  0.025429  0.026581  0.026131  0.027716   0.027716  0.302956"
      ]
     },
     "execution_count": 6,
     "metadata": {},
     "output_type": "execute_result"
    }
   ],
   "source": [
    "def normalize_data(data, min, max):\n",
    "    data = data - min\n",
    "    data = data/max\n",
    "    return data\n",
    "\n",
    "data_norm = normalize_data(full_data, full_data.min(axis=0), full_data.max(axis=0))\n",
    "data_norm.head()"
   ]
  },
  {
   "cell_type": "code",
   "execution_count": 7,
   "id": "fad448d7",
   "metadata": {},
   "outputs": [],
   "source": [
    "x_train = data_norm[:train_data.shape[0]]\n",
    "x_test = data_norm[train_data.shape[0]:]"
   ]
  },
  {
   "cell_type": "markdown",
   "id": "6f1d8a49",
   "metadata": {},
   "source": [
    "# Windowed Dataset"
   ]
  },
  {
   "cell_type": "code",
   "execution_count": 8,
   "id": "fd72bf35",
   "metadata": {},
   "outputs": [],
   "source": [
    "n_features = full_data.shape[1]\n",
    "n_past = 24\n",
    "n_future = 24 \n",
    "shift = 1\n",
    "batch_size = 32"
   ]
  },
  {
   "cell_type": "code",
   "execution_count": 9,
   "id": "691fda04",
   "metadata": {},
   "outputs": [],
   "source": [
    "def windowed_dataset(series, batch_size, n_past, n_future, shift):\n",
    "    ds = tf.data.Dataset.from_tensor_slices(series)\n",
    "    ds = ds.window(size=n_past + n_future, shift=shift, drop_remainder=True)\n",
    "    ds = ds.flat_map(lambda w: w.batch(n_past+n_future))\n",
    "    ds = ds.shuffle(1000)\n",
    "    ds = ds.map(lambda w: (w[:-n_past], w[-n_past:, :1]))\n",
    "    ds = ds.batch(batch_size).prefetch(1)\n",
    "    return ds\n",
    "\n",
    "train_set = windowed_dataset(x_train, batch_size, n_past, n_future, shift)\n",
    "test_set = windowed_dataset(x_train, batch_size, n_past, n_future, shift)"
   ]
  },
  {
   "cell_type": "markdown",
   "id": "d300ad5f",
   "metadata": {},
   "source": [
    "# Models"
   ]
  },
  {
   "cell_type": "code",
   "execution_count": 24,
   "id": "d646fff1",
   "metadata": {},
   "outputs": [
    {
     "data": {
      "text/html": [
       "<div>\n",
       "<style scoped>\n",
       "    .dataframe tbody tr th:only-of-type {\n",
       "        vertical-align: middle;\n",
       "    }\n",
       "\n",
       "    .dataframe tbody tr th {\n",
       "        vertical-align: top;\n",
       "    }\n",
       "\n",
       "    .dataframe thead th {\n",
       "        text-align: right;\n",
       "    }\n",
       "</style>\n",
       "<table border=\"1\" class=\"dataframe\">\n",
       "  <thead>\n",
       "    <tr style=\"text-align: right;\">\n",
       "      <th></th>\n",
       "      <th>Model</th>\n",
       "      <th>Loss</th>\n",
       "      <th>Accuracy</th>\n",
       "    </tr>\n",
       "  </thead>\n",
       "  <tbody>\n",
       "  </tbody>\n",
       "</table>\n",
       "</div>"
      ],
      "text/plain": [
       "Empty DataFrame\n",
       "Columns: [Model, Loss, Accuracy]\n",
       "Index: []"
      ]
     },
     "execution_count": 24,
     "metadata": {},
     "output_type": "execute_result"
    }
   ],
   "source": [
    "result = pd.DataFrame(columns=['Model','Loss', 'Accuracy'])\n",
    "result"
   ]
  },
  {
   "cell_type": "markdown",
   "id": "aa751ba1acf1a6e1",
   "metadata": {},
   "source": [
    "## LSTM"
   ]
  },
  {
   "cell_type": "code",
   "execution_count": 20,
   "id": "b43fede439b6bbbd",
   "metadata": {},
   "outputs": [
    {
     "name": "stdout",
     "output_type": "stream",
     "text": [
      "Epoch 1/20\n",
      "\u001b[1m101/101\u001b[0m \u001b[32m━━━━━━━━━━━━━━━━━━━━\u001b[0m\u001b[37m\u001b[0m \u001b[1m3s\u001b[0m 20ms/step - accuracy: 9.7305e-05 - loss: 0.1273 - val_accuracy: 6.4599e-05 - val_loss: 0.2381\n",
      "Epoch 2/20\n",
      "\u001b[1m101/101\u001b[0m \u001b[32m━━━━━━━━━━━━━━━━━━━━\u001b[0m\u001b[37m\u001b[0m \u001b[1m2s\u001b[0m 17ms/step - accuracy: 9.6877e-05 - loss: 0.1198 - val_accuracy: 7.7519e-05 - val_loss: 0.2301\n",
      "Epoch 3/20\n",
      "\u001b[1m101/101\u001b[0m \u001b[32m━━━━━━━━━━━━━━━━━━━━\u001b[0m\u001b[37m\u001b[0m \u001b[1m2s\u001b[0m 17ms/step - accuracy: 1.4970e-04 - loss: 0.1146 - val_accuracy: 6.4599e-05 - val_loss: 0.2225\n",
      "Epoch 4/20\n",
      "\u001b[1m101/101\u001b[0m \u001b[32m━━━━━━━━━━━━━━━━━━━━\u001b[0m\u001b[37m\u001b[0m \u001b[1m2s\u001b[0m 16ms/step - accuracy: 1.3124e-04 - loss: 0.1108 - val_accuracy: 6.4599e-05 - val_loss: 0.2150\n",
      "Epoch 5/20\n",
      "\u001b[1m101/101\u001b[0m \u001b[32m━━━━━━━━━━━━━━━━━━━━\u001b[0m\u001b[37m\u001b[0m \u001b[1m2s\u001b[0m 17ms/step - accuracy: 8.3697e-05 - loss: 0.1085 - val_accuracy: 6.4599e-05 - val_loss: 0.2071\n",
      "Epoch 6/20\n",
      "\u001b[1m101/101\u001b[0m \u001b[32m━━━━━━━━━━━━━━━━━━━━\u001b[0m\u001b[37m\u001b[0m \u001b[1m2s\u001b[0m 17ms/step - accuracy: 1.0008e-04 - loss: 0.1063 - val_accuracy: 6.4599e-05 - val_loss: 0.1982\n",
      "Epoch 7/20\n",
      "\u001b[1m101/101\u001b[0m \u001b[32m━━━━━━━━━━━━━━━━━━━━\u001b[0m\u001b[37m\u001b[0m \u001b[1m2s\u001b[0m 17ms/step - accuracy: 2.2695e-04 - loss: 0.1054 - val_accuracy: 7.7519e-05 - val_loss: 0.1884\n",
      "Epoch 8/20\n",
      "\u001b[1m101/101\u001b[0m \u001b[32m━━━━━━━━━━━━━━━━━━━━\u001b[0m\u001b[37m\u001b[0m \u001b[1m2s\u001b[0m 18ms/step - accuracy: 1.4131e-04 - loss: 0.1040 - val_accuracy: 7.7519e-05 - val_loss: 0.1775\n",
      "Epoch 9/20\n",
      "\u001b[1m101/101\u001b[0m \u001b[32m━━━━━━━━━━━━━━━━━━━━\u001b[0m\u001b[37m\u001b[0m \u001b[1m2s\u001b[0m 18ms/step - accuracy: 1.5863e-04 - loss: 0.1023 - val_accuracy: 6.4599e-05 - val_loss: 0.1660\n",
      "Epoch 10/20\n",
      "\u001b[1m101/101\u001b[0m \u001b[32m━━━━━━━━━━━━━━━━━━━━\u001b[0m\u001b[37m\u001b[0m \u001b[1m2s\u001b[0m 19ms/step - accuracy: 1.6023e-04 - loss: 0.0989 - val_accuracy: 6.4599e-05 - val_loss: 0.1541\n",
      "Epoch 11/20\n",
      "\u001b[1m101/101\u001b[0m \u001b[32m━━━━━━━━━━━━━━━━━━━━\u001b[0m\u001b[37m\u001b[0m \u001b[1m2s\u001b[0m 18ms/step - accuracy: 1.2168e-04 - loss: 0.0916 - val_accuracy: 7.7519e-05 - val_loss: 0.1436\n",
      "Epoch 12/20\n",
      "\u001b[1m101/101\u001b[0m \u001b[32m━━━━━━━━━━━━━━━━━━━━\u001b[0m\u001b[37m\u001b[0m \u001b[1m2s\u001b[0m 22ms/step - accuracy: 1.2836e-04 - loss: 0.0850 - val_accuracy: 9.0439e-05 - val_loss: 0.1359\n",
      "Epoch 13/20\n",
      "\u001b[1m101/101\u001b[0m \u001b[32m━━━━━━━━━━━━━━━━━━━━\u001b[0m\u001b[37m\u001b[0m \u001b[1m2s\u001b[0m 18ms/step - accuracy: 1.2582e-04 - loss: 0.0798 - val_accuracy: 7.7519e-05 - val_loss: 0.1296\n",
      "Epoch 14/20\n",
      "\u001b[1m101/101\u001b[0m \u001b[32m━━━━━━━━━━━━━━━━━━━━\u001b[0m\u001b[37m\u001b[0m \u001b[1m2s\u001b[0m 19ms/step - accuracy: 2.0955e-04 - loss: 0.0763 - val_accuracy: 7.7519e-05 - val_loss: 0.1243\n",
      "Epoch 15/20\n",
      "\u001b[1m101/101\u001b[0m \u001b[32m━━━━━━━━━━━━━━━━━━━━\u001b[0m\u001b[37m\u001b[0m \u001b[1m2s\u001b[0m 17ms/step - accuracy: 1.3938e-04 - loss: 0.0729 - val_accuracy: 7.7519e-05 - val_loss: 0.1196\n",
      "Epoch 16/20\n",
      "\u001b[1m101/101\u001b[0m \u001b[32m━━━━━━━━━━━━━━━━━━━━\u001b[0m\u001b[37m\u001b[0m \u001b[1m2s\u001b[0m 18ms/step - accuracy: 1.6218e-04 - loss: 0.0690 - val_accuracy: 7.7519e-05 - val_loss: 0.1157\n",
      "Epoch 17/20\n",
      "\u001b[1m101/101\u001b[0m \u001b[32m━━━━━━━━━━━━━━━━━━━━\u001b[0m\u001b[37m\u001b[0m \u001b[1m2s\u001b[0m 17ms/step - accuracy: 1.5725e-04 - loss: 0.0664 - val_accuracy: 3.8760e-05 - val_loss: 0.1128\n",
      "Epoch 18/20\n",
      "\u001b[1m101/101\u001b[0m \u001b[32m━━━━━━━━━━━━━━━━━━━━\u001b[0m\u001b[37m\u001b[0m \u001b[1m2s\u001b[0m 18ms/step - accuracy: 4.0234e-05 - loss: 0.0642 - val_accuracy: 3.8760e-05 - val_loss: 0.1098\n",
      "Epoch 19/20\n",
      "\u001b[1m101/101\u001b[0m \u001b[32m━━━━━━━━━━━━━━━━━━━━\u001b[0m\u001b[37m\u001b[0m \u001b[1m2s\u001b[0m 17ms/step - accuracy: 5.7840e-05 - loss: 0.0615 - val_accuracy: 3.8760e-05 - val_loss: 0.1076\n",
      "Epoch 20/20\n",
      "\u001b[1m101/101\u001b[0m \u001b[32m━━━━━━━━━━━━━━━━━━━━\u001b[0m\u001b[37m\u001b[0m \u001b[1m2s\u001b[0m 17ms/step - accuracy: 4.8037e-05 - loss: 0.0600 - val_accuracy: 5.1680e-05 - val_loss: 0.1059\n"
     ]
    },
    {
     "data": {
      "text/plain": [
       "<keras.src.callbacks.history.History at 0x18aeb34a520>"
      ]
     },
     "execution_count": 20,
     "metadata": {},
     "output_type": "execute_result"
    }
   ],
   "source": [
    "lstm = tf.keras.models.Sequential([\n",
    "        tf.keras.layers.Input(shape=(n_past,n_features)),\n",
    "        tf.keras.layers.LSTM(128, activation='relu'),\n",
    "        tf.keras.layers.Dense(64, activation='relu'),\n",
    "        tf.keras.layers.Flatten(),\n",
    "        tf.keras.layers.Dense(n_future * n_features, activation='relu'),\n",
    "        tf.keras.layers.Reshape((n_future, n_features)),\n",
    "    ])\n",
    "    \n",
    "lstm.compile(\n",
    "    optimizer=tf.keras.optimizers.SGD(learning_rate=0.001, momentum=0.9),\n",
    "    loss='mae',\n",
    "    metrics=['accuracy']\n",
    "    )\n",
    "\n",
    "lstm.fit(train_set, epochs=20, validation_data=test_set)"
   ]
  },
  {
   "cell_type": "code",
   "execution_count": 27,
   "id": "6d81aa4b",
   "metadata": {},
   "outputs": [
    {
     "name": "stdout",
     "output_type": "stream",
     "text": [
      "\u001b[1m101/101\u001b[0m \u001b[32m━━━━━━━━━━━━━━━━━━━━\u001b[0m\u001b[37m\u001b[0m \u001b[1m1s\u001b[0m 5ms/step - accuracy: 1.1586e-04 - loss: 0.0587\n"
     ]
    },
    {
     "name": "stderr",
     "output_type": "stream",
     "text": [
      "d:\\2. NGODINGS\\AI ML DATA\\Project\\Stock Trading Simulation\\.venv\\lib\\site-packages\\keras\\src\\trainers\\epoch_iterator.py:151: UserWarning: Your input ran out of data; interrupting training. Make sure that your dataset or generator can generate at least `steps_per_epoch * epochs` batches. You may need to use the `.repeat()` function when building your dataset.\n",
      "  self._interrupted_warning()\n"
     ]
    },
    {
     "data": {
      "text/html": [
       "<div>\n",
       "<style scoped>\n",
       "    .dataframe tbody tr th:only-of-type {\n",
       "        vertical-align: middle;\n",
       "    }\n",
       "\n",
       "    .dataframe tbody tr th {\n",
       "        vertical-align: top;\n",
       "    }\n",
       "\n",
       "    .dataframe thead th {\n",
       "        text-align: right;\n",
       "    }\n",
       "</style>\n",
       "<table border=\"1\" class=\"dataframe\">\n",
       "  <thead>\n",
       "    <tr style=\"text-align: right;\">\n",
       "      <th></th>\n",
       "      <th>Model</th>\n",
       "      <th>Loss</th>\n",
       "      <th>Accuracy</th>\n",
       "    </tr>\n",
       "  </thead>\n",
       "  <tbody>\n",
       "    <tr>\n",
       "      <th>0</th>\n",
       "      <td>LSTM</td>\n",
       "      <td>0.105878</td>\n",
       "      <td>0.000052</td>\n",
       "    </tr>\n",
       "    <tr>\n",
       "      <th>1</th>\n",
       "      <td>LSTM</td>\n",
       "      <td>0.105878</td>\n",
       "      <td>0.000052</td>\n",
       "    </tr>\n",
       "  </tbody>\n",
       "</table>\n",
       "</div>"
      ],
      "text/plain": [
       "  Model      Loss  Accuracy\n",
       "0  LSTM  0.105878  0.000052\n",
       "1  LSTM  0.105878  0.000052"
      ]
     },
     "execution_count": 27,
     "metadata": {},
     "output_type": "execute_result"
    }
   ],
   "source": [
    "accuracy, loss = lstm.evaluate(test_set)\n",
    "result.loc[0] = ['LSTM', accuracy, loss]\n",
    "result"
   ]
  },
  {
   "cell_type": "markdown",
   "id": "7dff18bd",
   "metadata": {},
   "source": [
    "## Bidirectional LSTM"
   ]
  },
  {
   "cell_type": "code",
   "execution_count": 39,
   "id": "23345d57",
   "metadata": {},
   "outputs": [
    {
     "name": "stdout",
     "output_type": "stream",
     "text": [
      "Epoch 1/20\n",
      "     99/Unknown \u001b[1m5s\u001b[0m 24ms/step - accuracy: 1.3497e-04 - loss: 0.1274"
     ]
    },
    {
     "name": "stderr",
     "output_type": "stream",
     "text": [
      "d:\\2. NGODINGS\\AI ML DATA\\Project\\Stock Trading Simulation\\.venv\\lib\\site-packages\\keras\\src\\trainers\\epoch_iterator.py:151: UserWarning: Your input ran out of data; interrupting training. Make sure that your dataset or generator can generate at least `steps_per_epoch * epochs` batches. You may need to use the `.repeat()` function when building your dataset.\n",
      "  self._interrupted_warning()\n"
     ]
    },
    {
     "name": "stdout",
     "output_type": "stream",
     "text": [
      "\u001b[1m101/101\u001b[0m \u001b[32m━━━━━━━━━━━━━━━━━━━━\u001b[0m\u001b[37m\u001b[0m \u001b[1m7s\u001b[0m 39ms/step - accuracy: 1.3443e-04 - loss: 0.1308 - val_accuracy: 1.2920e-04 - val_loss: 0.2399\n",
      "Epoch 2/20\n",
      "\u001b[1m101/101\u001b[0m \u001b[32m━━━━━━━━━━━━━━━━━━━━\u001b[0m\u001b[37m\u001b[0m \u001b[1m4s\u001b[0m 35ms/step - accuracy: 1.8893e-04 - loss: 0.1205 - val_accuracy: 1.2920e-04 - val_loss: 0.2314\n",
      "Epoch 3/20\n",
      "\u001b[1m101/101\u001b[0m \u001b[32m━━━━━━━━━━━━━━━━━━━━\u001b[0m\u001b[37m\u001b[0m \u001b[1m4s\u001b[0m 38ms/step - accuracy: 2.4395e-04 - loss: 0.1158 - val_accuracy: 1.1628e-04 - val_loss: 0.2237\n",
      "Epoch 4/20\n",
      "\u001b[1m101/101\u001b[0m \u001b[32m━━━━━━━━━━━━━━━━━━━━\u001b[0m\u001b[37m\u001b[0m \u001b[1m4s\u001b[0m 38ms/step - accuracy: 1.8596e-04 - loss: 0.1129 - val_accuracy: 1.0336e-04 - val_loss: 0.2159\n",
      "Epoch 5/20\n",
      "\u001b[1m101/101\u001b[0m \u001b[32m━━━━━━━━━━━━━━━━━━━━\u001b[0m\u001b[37m\u001b[0m \u001b[1m4s\u001b[0m 37ms/step - accuracy: 1.0526e-04 - loss: 0.1100 - val_accuracy: 1.0336e-04 - val_loss: 0.2081\n",
      "Epoch 6/20\n",
      "\u001b[1m101/101\u001b[0m \u001b[32m━━━━━━━━━━━━━━━━━━━━\u001b[0m\u001b[37m\u001b[0m \u001b[1m4s\u001b[0m 35ms/step - accuracy: 1.6270e-04 - loss: 0.1093 - val_accuracy: 1.0336e-04 - val_loss: 0.1997\n",
      "Epoch 7/20\n",
      "\u001b[1m101/101\u001b[0m \u001b[32m━━━━━━━━━━━━━━━━━━━━\u001b[0m\u001b[37m\u001b[0m \u001b[1m4s\u001b[0m 39ms/step - accuracy: 1.9776e-04 - loss: 0.1093 - val_accuracy: 1.0336e-04 - val_loss: 0.1904\n",
      "Epoch 8/20\n",
      "\u001b[1m101/101\u001b[0m \u001b[32m━━━━━━━━━━━━━━━━━━━━\u001b[0m\u001b[37m\u001b[0m \u001b[1m4s\u001b[0m 38ms/step - accuracy: 1.9597e-04 - loss: 0.1102 - val_accuracy: 7.7519e-05 - val_loss: 0.1793\n",
      "Epoch 9/20\n",
      "\u001b[1m101/101\u001b[0m \u001b[32m━━━━━━━━━━━━━━━━━━━━\u001b[0m\u001b[37m\u001b[0m \u001b[1m4s\u001b[0m 37ms/step - accuracy: 1.1869e-04 - loss: 0.1104 - val_accuracy: 7.7519e-05 - val_loss: 0.1673\n",
      "Epoch 10/20\n",
      "\u001b[1m101/101\u001b[0m \u001b[32m━━━━━━━━━━━━━━━━━━━━\u001b[0m\u001b[37m\u001b[0m \u001b[1m4s\u001b[0m 35ms/step - accuracy: 1.3132e-04 - loss: 0.1039 - val_accuracy: 6.4599e-05 - val_loss: 0.1508\n",
      "Epoch 11/20\n",
      "\u001b[1m101/101\u001b[0m \u001b[32m━━━━━━━━━━━━━━━━━━━━\u001b[0m\u001b[37m\u001b[0m \u001b[1m4s\u001b[0m 36ms/step - accuracy: 6.1356e-05 - loss: 0.0912 - val_accuracy: 2.5840e-05 - val_loss: 0.1392\n",
      "Epoch 12/20\n",
      "\u001b[1m101/101\u001b[0m \u001b[32m━━━━━━━━━━━━━━━━━━━━\u001b[0m\u001b[37m\u001b[0m \u001b[1m4s\u001b[0m 38ms/step - accuracy: 3.2112e-05 - loss: 0.0833 - val_accuracy: 5.1680e-05 - val_loss: 0.1310\n",
      "Epoch 13/20\n",
      "\u001b[1m101/101\u001b[0m \u001b[32m━━━━━━━━━━━━━━━━━━━━\u001b[0m\u001b[37m\u001b[0m \u001b[1m4s\u001b[0m 37ms/step - accuracy: 1.0815e-04 - loss: 0.0780 - val_accuracy: 6.4599e-05 - val_loss: 0.1241\n",
      "Epoch 14/20\n",
      "\u001b[1m101/101\u001b[0m \u001b[32m━━━━━━━━━━━━━━━━━━━━\u001b[0m\u001b[37m\u001b[0m \u001b[1m4s\u001b[0m 39ms/step - accuracy: 1.7889e-04 - loss: 0.0734 - val_accuracy: 5.1680e-05 - val_loss: 0.1190\n",
      "Epoch 15/20\n",
      "\u001b[1m101/101\u001b[0m \u001b[32m━━━━━━━━━━━━━━━━━━━━\u001b[0m\u001b[37m\u001b[0m \u001b[1m4s\u001b[0m 34ms/step - accuracy: 1.0703e-04 - loss: 0.0694 - val_accuracy: 3.8760e-05 - val_loss: 0.1150\n",
      "Epoch 16/20\n",
      "\u001b[1m101/101\u001b[0m \u001b[32m━━━━━━━━━━━━━━━━━━━━\u001b[0m\u001b[37m\u001b[0m \u001b[1m4s\u001b[0m 34ms/step - accuracy: 3.5197e-05 - loss: 0.0662 - val_accuracy: 1.2920e-05 - val_loss: 0.1126\n",
      "Epoch 17/20\n",
      "\u001b[1m101/101\u001b[0m \u001b[32m━━━━━━━━━━━━━━━━━━━━\u001b[0m\u001b[37m\u001b[0m \u001b[1m4s\u001b[0m 34ms/step - accuracy: 6.4843e-05 - loss: 0.0643 - val_accuracy: 2.5840e-05 - val_loss: 0.1109\n",
      "Epoch 18/20\n",
      "\u001b[1m101/101\u001b[0m \u001b[32m━━━━━━━━━━━━━━━━━━━━\u001b[0m\u001b[37m\u001b[0m \u001b[1m4s\u001b[0m 37ms/step - accuracy: 9.3332e-05 - loss: 0.0620 - val_accuracy: 2.5840e-05 - val_loss: 0.1098\n",
      "Epoch 19/20\n",
      "\u001b[1m101/101\u001b[0m \u001b[32m━━━━━━━━━━━━━━━━━━━━\u001b[0m\u001b[37m\u001b[0m \u001b[1m4s\u001b[0m 35ms/step - accuracy: 1.9427e-05 - loss: 0.0607 - val_accuracy: 3.8760e-05 - val_loss: 0.1091\n",
      "Epoch 20/20\n",
      "\u001b[1m101/101\u001b[0m \u001b[32m━━━━━━━━━━━━━━━━━━━━\u001b[0m\u001b[37m\u001b[0m \u001b[1m4s\u001b[0m 37ms/step - accuracy: 5.8686e-05 - loss: 0.0596 - val_accuracy: 3.8760e-05 - val_loss: 0.1085\n"
     ]
    },
    {
     "data": {
      "text/plain": [
       "<keras.src.callbacks.history.History at 0x18afccd1700>"
      ]
     },
     "execution_count": 39,
     "metadata": {},
     "output_type": "execute_result"
    }
   ],
   "source": [
    "bilstm = tf.keras.models.Sequential([\n",
    "        tf.keras.layers.Input(shape=(n_past,n_features)),\n",
    "        tf.keras.layers.Bidirectional(tf.keras.layers.LSTM(128, return_sequences=True)),\n",
    "        tf.keras.layers.LSTM(64, activation='relu'),\n",
    "        tf.keras.layers.Dense(64, activation='relu'),\n",
    "        tf.keras.layers.Flatten(),\n",
    "        tf.keras.layers.Dense(n_future * n_features, activation='relu'),\n",
    "        tf.keras.layers.Reshape((n_future, n_features)),\n",
    "    ])\n",
    "    \n",
    "bilstm.compile(\n",
    "    optimizer=tf.keras.optimizers.SGD(learning_rate=0.001, momentum=0.9),\n",
    "    loss='mae',\n",
    "    metrics=['accuracy']\n",
    "    )\n",
    "\n",
    "bilstm.fit(train_set, epochs=20, validation_data=test_set)"
   ]
  },
  {
   "cell_type": "code",
   "execution_count": 43,
   "id": "4306ddd4",
   "metadata": {},
   "outputs": [
    {
     "name": "stdout",
     "output_type": "stream",
     "text": [
      "\u001b[1m101/101\u001b[0m \u001b[32m━━━━━━━━━━━━━━━━━━━━\u001b[0m\u001b[37m\u001b[0m \u001b[1m1s\u001b[0m 11ms/step - accuracy: 5.1153e-05 - loss: 0.0589\n"
     ]
    },
    {
     "name": "stderr",
     "output_type": "stream",
     "text": [
      "d:\\2. NGODINGS\\AI ML DATA\\Project\\Stock Trading Simulation\\.venv\\lib\\site-packages\\keras\\src\\trainers\\epoch_iterator.py:151: UserWarning: Your input ran out of data; interrupting training. Make sure that your dataset or generator can generate at least `steps_per_epoch * epochs` batches. You may need to use the `.repeat()` function when building your dataset.\n",
      "  self._interrupted_warning()\n"
     ]
    },
    {
     "data": {
      "text/html": [
       "<div>\n",
       "<style scoped>\n",
       "    .dataframe tbody tr th:only-of-type {\n",
       "        vertical-align: middle;\n",
       "    }\n",
       "\n",
       "    .dataframe tbody tr th {\n",
       "        vertical-align: top;\n",
       "    }\n",
       "\n",
       "    .dataframe thead th {\n",
       "        text-align: right;\n",
       "    }\n",
       "</style>\n",
       "<table border=\"1\" class=\"dataframe\">\n",
       "  <thead>\n",
       "    <tr style=\"text-align: right;\">\n",
       "      <th></th>\n",
       "      <th>Model</th>\n",
       "      <th>Loss</th>\n",
       "      <th>Accuracy</th>\n",
       "    </tr>\n",
       "  </thead>\n",
       "  <tbody>\n",
       "    <tr>\n",
       "      <th>0</th>\n",
       "      <td>LSTM</td>\n",
       "      <td>0.105878</td>\n",
       "      <td>0.000052</td>\n",
       "    </tr>\n",
       "    <tr>\n",
       "      <th>1</th>\n",
       "      <td>BiLSTM</td>\n",
       "      <td>0.108495</td>\n",
       "      <td>0.000039</td>\n",
       "    </tr>\n",
       "    <tr>\n",
       "      <th>2</th>\n",
       "      <td>GRU</td>\n",
       "      <td>0.097550</td>\n",
       "      <td>0.000052</td>\n",
       "    </tr>\n",
       "  </tbody>\n",
       "</table>\n",
       "</div>"
      ],
      "text/plain": [
       "    Model      Loss  Accuracy\n",
       "0    LSTM  0.105878  0.000052\n",
       "1  BiLSTM  0.108495  0.000039\n",
       "2     GRU  0.097550  0.000052"
      ]
     },
     "execution_count": 43,
     "metadata": {},
     "output_type": "execute_result"
    }
   ],
   "source": [
    "accuracy, loss = bilstm.evaluate(test_set)\n",
    "result.loc[1] = ['BiLSTM', accuracy, loss]\n",
    "result"
   ]
  },
  {
   "cell_type": "markdown",
   "id": "d2bbfb0a",
   "metadata": {},
   "source": [
    "## GRU"
   ]
  },
  {
   "cell_type": "code",
   "execution_count": 53,
   "id": "7671df5a",
   "metadata": {},
   "outputs": [
    {
     "name": "stdout",
     "output_type": "stream",
     "text": [
      "Epoch 1/20\n",
      "     99/Unknown \u001b[1m5s\u001b[0m 20ms/step - accuracy: 1.1130e-04 - loss: 0.1243"
     ]
    },
    {
     "name": "stderr",
     "output_type": "stream",
     "text": [
      "d:\\2. NGODINGS\\AI ML DATA\\Project\\Stock Trading Simulation\\.venv\\lib\\site-packages\\keras\\src\\trainers\\epoch_iterator.py:151: UserWarning: Your input ran out of data; interrupting training. Make sure that your dataset or generator can generate at least `steps_per_epoch * epochs` batches. You may need to use the `.repeat()` function when building your dataset.\n",
      "  self._interrupted_warning()\n"
     ]
    },
    {
     "name": "stdout",
     "output_type": "stream",
     "text": [
      "\u001b[1m101/101\u001b[0m \u001b[32m━━━━━━━━━━━━━━━━━━━━\u001b[0m\u001b[37m\u001b[0m \u001b[1m6s\u001b[0m 32ms/step - accuracy: 1.0955e-04 - loss: 0.1277 - val_accuracy: 1.2920e-05 - val_loss: 0.2364\n",
      "Epoch 2/20\n",
      "\u001b[1m101/101\u001b[0m \u001b[32m━━━━━━━━━━━━━━━━━━━━\u001b[0m\u001b[37m\u001b[0m \u001b[1m3s\u001b[0m 28ms/step - accuracy: 2.4114e-05 - loss: 0.1177 - val_accuracy: 1.2920e-05 - val_loss: 0.2250\n",
      "Epoch 3/20\n",
      "\u001b[1m101/101\u001b[0m \u001b[32m━━━━━━━━━━━━━━━━━━━━\u001b[0m\u001b[37m\u001b[0m \u001b[1m3s\u001b[0m 29ms/step - accuracy: 2.4114e-05 - loss: 0.1131 - val_accuracy: 6.4599e-05 - val_loss: 0.2142\n",
      "Epoch 4/20\n",
      "\u001b[1m101/101\u001b[0m \u001b[32m━━━━━━━━━━━━━━━━━━━━\u001b[0m\u001b[37m\u001b[0m \u001b[1m3s\u001b[0m 26ms/step - accuracy: 6.6243e-05 - loss: 0.1085 - val_accuracy: 5.1680e-05 - val_loss: 0.2046\n",
      "Epoch 5/20\n",
      "\u001b[1m101/101\u001b[0m \u001b[32m━━━━━━━━━━━━━━━━━━━━\u001b[0m\u001b[37m\u001b[0m \u001b[1m3s\u001b[0m 30ms/step - accuracy: 1.0609e-04 - loss: 0.1064 - val_accuracy: 3.8760e-05 - val_loss: 0.1963\n",
      "Epoch 6/20\n",
      "\u001b[1m101/101\u001b[0m \u001b[32m━━━━━━━━━━━━━━━━━━━━\u001b[0m\u001b[37m\u001b[0m \u001b[1m3s\u001b[0m 29ms/step - accuracy: 1.6006e-04 - loss: 0.1082 - val_accuracy: 5.1680e-05 - val_loss: 0.1889\n",
      "Epoch 7/20\n",
      "\u001b[1m101/101\u001b[0m \u001b[32m━━━━━━━━━━━━━━━━━━━━\u001b[0m\u001b[37m\u001b[0m \u001b[1m3s\u001b[0m 29ms/step - accuracy: 1.2543e-04 - loss: 0.1086 - val_accuracy: 6.4599e-05 - val_loss: 0.1822\n",
      "Epoch 8/20\n",
      "\u001b[1m101/101\u001b[0m \u001b[32m━━━━━━━━━━━━━━━━━━━━\u001b[0m\u001b[37m\u001b[0m \u001b[1m3s\u001b[0m 30ms/step - accuracy: 1.8340e-04 - loss: 0.1079 - val_accuracy: 6.4599e-05 - val_loss: 0.1754\n",
      "Epoch 9/20\n",
      "\u001b[1m101/101\u001b[0m \u001b[32m━━━━━━━━━━━━━━━━━━━━\u001b[0m\u001b[37m\u001b[0m \u001b[1m3s\u001b[0m 30ms/step - accuracy: 7.6753e-05 - loss: 0.1070 - val_accuracy: 6.4599e-05 - val_loss: 0.1684\n",
      "Epoch 10/20\n",
      "\u001b[1m101/101\u001b[0m \u001b[32m━━━━━━━━━━━━━━━━━━━━\u001b[0m\u001b[37m\u001b[0m \u001b[1m3s\u001b[0m 31ms/step - accuracy: 1.2620e-04 - loss: 0.1041 - val_accuracy: 7.7519e-05 - val_loss: 0.1610\n",
      "Epoch 11/20\n",
      "\u001b[1m101/101\u001b[0m \u001b[32m━━━━━━━━━━━━━━━━━━━━\u001b[0m\u001b[37m\u001b[0m \u001b[1m3s\u001b[0m 30ms/step - accuracy: 1.2037e-04 - loss: 0.1009 - val_accuracy: 5.1680e-05 - val_loss: 0.1526\n",
      "Epoch 12/20\n",
      "\u001b[1m101/101\u001b[0m \u001b[32m━━━━━━━━━━━━━━━━━━━━\u001b[0m\u001b[37m\u001b[0m \u001b[1m3s\u001b[0m 31ms/step - accuracy: 1.5824e-04 - loss: 0.0961 - val_accuracy: 6.4599e-05 - val_loss: 0.1433\n",
      "Epoch 13/20\n",
      "\u001b[1m101/101\u001b[0m \u001b[32m━━━━━━━━━━━━━━━━━━━━\u001b[0m\u001b[37m\u001b[0m \u001b[1m4s\u001b[0m 38ms/step - accuracy: 1.1865e-04 - loss: 0.0893 - val_accuracy: 5.1680e-05 - val_loss: 0.1327\n",
      "Epoch 14/20\n",
      "\u001b[1m101/101\u001b[0m \u001b[32m━━━━━━━━━━━━━━━━━━━━\u001b[0m\u001b[37m\u001b[0m \u001b[1m4s\u001b[0m 35ms/step - accuracy: 9.5918e-05 - loss: 0.0820 - val_accuracy: 6.4599e-05 - val_loss: 0.1236\n",
      "Epoch 15/20\n",
      "\u001b[1m101/101\u001b[0m \u001b[32m━━━━━━━━━━━━━━━━━━━━\u001b[0m\u001b[37m\u001b[0m \u001b[1m3s\u001b[0m 33ms/step - accuracy: 8.7374e-05 - loss: 0.0769 - val_accuracy: 3.8760e-05 - val_loss: 0.1162\n",
      "Epoch 16/20\n",
      "\u001b[1m101/101\u001b[0m \u001b[32m━━━━━━━━━━━━━━━━━━━━\u001b[0m\u001b[37m\u001b[0m \u001b[1m3s\u001b[0m 30ms/step - accuracy: 1.2322e-04 - loss: 0.0730 - val_accuracy: 2.5840e-05 - val_loss: 0.1106\n",
      "Epoch 17/20\n",
      "\u001b[1m101/101\u001b[0m \u001b[32m━━━━━━━━━━━━━━━━━━━━\u001b[0m\u001b[37m\u001b[0m \u001b[1m3s\u001b[0m 28ms/step - accuracy: 8.4894e-05 - loss: 0.0709 - val_accuracy: 2.5840e-05 - val_loss: 0.1075\n",
      "Epoch 18/20\n",
      "\u001b[1m101/101\u001b[0m \u001b[32m━━━━━━━━━━━━━━━━━━━━\u001b[0m\u001b[37m\u001b[0m \u001b[1m3s\u001b[0m 28ms/step - accuracy: 9.4444e-05 - loss: 0.0700 - val_accuracy: 3.8760e-05 - val_loss: 0.1042\n",
      "Epoch 19/20\n",
      "\u001b[1m101/101\u001b[0m \u001b[32m━━━━━━━━━━━━━━━━━━━━\u001b[0m\u001b[37m\u001b[0m \u001b[1m3s\u001b[0m 29ms/step - accuracy: 9.7225e-05 - loss: 0.0690 - val_accuracy: 3.8760e-05 - val_loss: 0.1023\n",
      "Epoch 20/20\n",
      "\u001b[1m101/101\u001b[0m \u001b[32m━━━━━━━━━━━━━━━━━━━━\u001b[0m\u001b[37m\u001b[0m \u001b[1m3s\u001b[0m 33ms/step - accuracy: 4.6617e-05 - loss: 0.0670 - val_accuracy: 3.8760e-05 - val_loss: 0.1006\n"
     ]
    },
    {
     "data": {
      "text/plain": [
       "<keras.src.callbacks.history.History at 0x18affb9c280>"
      ]
     },
     "execution_count": 53,
     "metadata": {},
     "output_type": "execute_result"
    }
   ],
   "source": [
    "gru = tf.keras.models.Sequential([\n",
    "        tf.keras.layers.Input(shape=(n_past,n_features)),\n",
    "        tf.keras.layers.GRU(128, return_sequences=True, dropout=0.3),\n",
    "        tf.keras.layers.GRU(64),\n",
    "        tf.keras.layers.Dense(64, activation='relu'),\n",
    "        tf.keras.layers.Flatten(),\n",
    "        tf.keras.layers.Dense(n_future * n_features, activation='relu'),\n",
    "        tf.keras.layers.Reshape((n_future, n_features)),\n",
    "    ])\n",
    "    \n",
    "gru.compile(\n",
    "    optimizer=tf.keras.optimizers.SGD(learning_rate=0.001, momentum=0.9),\n",
    "    loss='mae',\n",
    "    metrics=['accuracy']\n",
    "    )\n",
    "\n",
    "gru.fit(train_set, epochs=20, validation_data=test_set)"
   ]
  },
  {
   "cell_type": "code",
   "execution_count": 44,
   "id": "1c343aea",
   "metadata": {},
   "outputs": [
    {
     "name": "stdout",
     "output_type": "stream",
     "text": [
      "\u001b[1m101/101\u001b[0m \u001b[32m━━━━━━━━━━━━━━━━━━━━\u001b[0m\u001b[37m\u001b[0m \u001b[1m1s\u001b[0m 8ms/step - accuracy: 8.6725e-05 - loss: 0.0536\n"
     ]
    },
    {
     "name": "stderr",
     "output_type": "stream",
     "text": [
      "d:\\2. NGODINGS\\AI ML DATA\\Project\\Stock Trading Simulation\\.venv\\lib\\site-packages\\keras\\src\\trainers\\epoch_iterator.py:151: UserWarning: Your input ran out of data; interrupting training. Make sure that your dataset or generator can generate at least `steps_per_epoch * epochs` batches. You may need to use the `.repeat()` function when building your dataset.\n",
      "  self._interrupted_warning()\n"
     ]
    },
    {
     "data": {
      "text/html": [
       "<div>\n",
       "<style scoped>\n",
       "    .dataframe tbody tr th:only-of-type {\n",
       "        vertical-align: middle;\n",
       "    }\n",
       "\n",
       "    .dataframe tbody tr th {\n",
       "        vertical-align: top;\n",
       "    }\n",
       "\n",
       "    .dataframe thead th {\n",
       "        text-align: right;\n",
       "    }\n",
       "</style>\n",
       "<table border=\"1\" class=\"dataframe\">\n",
       "  <thead>\n",
       "    <tr style=\"text-align: right;\">\n",
       "      <th></th>\n",
       "      <th>Model</th>\n",
       "      <th>Loss</th>\n",
       "      <th>Accuracy</th>\n",
       "    </tr>\n",
       "  </thead>\n",
       "  <tbody>\n",
       "    <tr>\n",
       "      <th>0</th>\n",
       "      <td>LSTM</td>\n",
       "      <td>0.105878</td>\n",
       "      <td>0.000052</td>\n",
       "    </tr>\n",
       "    <tr>\n",
       "      <th>1</th>\n",
       "      <td>BiLSTM</td>\n",
       "      <td>0.108495</td>\n",
       "      <td>0.000039</td>\n",
       "    </tr>\n",
       "    <tr>\n",
       "      <th>2</th>\n",
       "      <td>GRU</td>\n",
       "      <td>0.097550</td>\n",
       "      <td>0.000052</td>\n",
       "    </tr>\n",
       "  </tbody>\n",
       "</table>\n",
       "</div>"
      ],
      "text/plain": [
       "    Model      Loss  Accuracy\n",
       "0    LSTM  0.105878  0.000052\n",
       "1  BiLSTM  0.108495  0.000039\n",
       "2     GRU  0.097550  0.000052"
      ]
     },
     "execution_count": 44,
     "metadata": {},
     "output_type": "execute_result"
    }
   ],
   "source": [
    "accuracy, loss = gru.evaluate(test_set)\n",
    "result.loc[2] = ['GRU', accuracy, loss]\n",
    "result"
   ]
  }
 ],
 "metadata": {
  "kernelspec": {
   "display_name": ".venv",
   "language": "python",
   "name": "python3"
  },
  "language_info": {
   "codemirror_mode": {
    "name": "ipython",
    "version": 3
   },
   "file_extension": ".py",
   "mimetype": "text/x-python",
   "name": "python",
   "nbconvert_exporter": "python",
   "pygments_lexer": "ipython3",
   "version": "3.9.13"
  }
 },
 "nbformat": 4,
 "nbformat_minor": 5
}
